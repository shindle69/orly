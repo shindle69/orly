{
 "cells": [
  {
   "cell_type": "code",
   "execution_count": 1,
   "metadata": {},
   "outputs": [],
   "source": [
    "import requests\n",
    "html=requests.get('http://dev.to/rly').text"
   ]
  },
  {
   "cell_type": "code",
   "execution_count": 5,
   "metadata": {},
   "outputs": [],
   "source": [
    "from bs4 import BeautifulSoup\n",
    "soup=BeautifulSoup(html,'html.parser')"
   ]
  },
  {
   "cell_type": "code",
   "execution_count": 14,
   "metadata": {},
   "outputs": [
    {
     "name": "stdout",
     "output_type": "stream",
     "text": [
      "(85, 19, 93, 255)\n",
      "(113, 112, 110, 255)\n",
      "(128, 27, 42, 255)\n",
      "(184, 7, 33, 255)\n",
      "(101, 22, 28, 255)\n",
      "(80, 61, 189, 255)\n",
      "(225, 17, 5, 255)\n",
      "(6, 123, 176, 255)\n",
      "(247, 181, 0, 255)\n",
      "(0, 15, 118, 255)\n",
      "(168, 0, 155, 255)\n",
      "(0, 132, 69, 255)\n",
      "(0, 153, 157, 255)\n",
      "(1, 66, 132, 255)\n",
      "(177, 0, 52, 255)\n",
      "(55, 142, 25, 255)\n",
      "(133, 152, 0, 255)\n"
     ]
    }
   ],
   "source": [
    "import re\n",
    "for tag in soup.select('.color'):\n",
    "    code=tuple(map(int,re.findall(r'\\d+',tag['style'])))\n",
    "    print(code)"
   ]
  },
  {
   "cell_type": "code",
   "execution_count": 17,
   "metadata": {},
   "outputs": [
    {
     "name": "stdout",
     "output_type": "stream",
     "text": [
      "78525 byte\n",
      "56070 byte\n",
      "56710 byte\n",
      "63420 byte\n",
      "51284 byte\n",
      "49260 byte\n",
      "61771 byte\n",
      "47104 byte\n",
      "35406 byte\n",
      "38785 byte\n",
      "50292 byte\n",
      "44080 byte\n",
      "36040 byte\n",
      "32743 byte\n",
      "28730 byte\n",
      "60005 byte\n",
      "48193 byte\n",
      "26465 byte\n",
      "16967 byte\n",
      "83044 byte\n",
      "51262 byte\n",
      "51286 byte\n",
      "62658 byte\n",
      "45440 byte\n",
      "53451 byte\n",
      "66973 byte\n",
      "46176 byte\n",
      "56072 byte\n",
      "36732 byte\n",
      "57868 byte\n",
      "34010 byte\n",
      "27033 byte\n",
      "49383 byte\n",
      "46422 byte\n",
      "41254 byte\n",
      "60863 byte\n",
      "53463 byte\n",
      "57807 byte\n",
      "72061 byte\n",
      "46991 byte\n"
     ]
    }
   ],
   "source": [
    "for idx,tag in enumerate(soup.select('.animal img'),1):    \n",
    "    image_url=tag['src']\n",
    "    image_data=requests.get(image_url).content\n",
    "    image_name='{}.png'.format(idx)\n",
    "    with open(image_name,'wb') as f:\n",
    "        f.write(image_data)\n",
    "        print('{} byte'.format(len(image_data)))"
   ]
  },
  {
   "cell_type": "code",
   "execution_count": 18,
   "metadata": {},
   "outputs": [
    {
     "ename": "SyntaxError",
     "evalue": "invalid syntax (<ipython-input-18-45e5ff62aa2b>, line 1)",
     "output_type": "error",
     "traceback": [
      "\u001b[0;36m  File \u001b[0;32m\"<ipython-input-18-45e5ff62aa2b>\"\u001b[0;36m, line \u001b[0;32m1\u001b[0m\n\u001b[0;31m    $ls\u001b[0m\n\u001b[0m    ^\u001b[0m\n\u001b[0;31mSyntaxError\u001b[0m\u001b[0;31m:\u001b[0m invalid syntax\n"
     ]
    }
   ],
   "source": [
    "$ls"
   ]
  },
  {
   "cell_type": "code",
   "execution_count": 19,
   "metadata": {},
   "outputs": [
    {
     "name": "stdout",
     "output_type": "stream",
     "text": [
      "1.png                 22.png                35.png\r\n",
      "10.png                23.png                36.png\r\n",
      "11.png                24.png                37.png\r\n",
      "12.png                25.png                38.png\r\n",
      "13.png                26.png                39.png\r\n",
      "14.png                27.png                4.png\r\n",
      "15.png                28.png                40.png\r\n",
      "16.png                29.png                5.png\r\n",
      "17.png                3.png                 6.png\r\n",
      "18.png                30.png                7.png\r\n",
      "19.png                31.png                8.png\r\n",
      "2.png                 32.png                9.png\r\n",
      "20.png                33.png                pic_color_code.ipynb\r\n",
      "21.png                34.png\r\n"
     ]
    }
   ],
   "source": [
    "%ls"
   ]
  },
  {
   "cell_type": "code",
   "execution_count": null,
   "metadata": {},
   "outputs": [],
   "source": []
  }
 ],
 "metadata": {
  "kernelspec": {
   "display_name": "Python 3",
   "language": "python",
   "name": "python3"
  },
  "language_info": {
   "codemirror_mode": {
    "name": "ipython",
    "version": 3
   },
   "file_extension": ".py",
   "mimetype": "text/x-python",
   "name": "python",
   "nbconvert_exporter": "python",
   "pygments_lexer": "ipython3",
   "version": "3.6.4"
  }
 },
 "nbformat": 4,
 "nbformat_minor": 2
}
