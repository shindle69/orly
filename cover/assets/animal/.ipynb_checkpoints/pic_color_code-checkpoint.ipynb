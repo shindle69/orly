{
 "cells": [
  {
   "cell_type": "code",
   "execution_count": 1,
   "metadata": {},
   "outputs": [],
   "source": [
    "import requests\n",
    "html=requests.get('http://dev.to/rly').text"
   ]
  },
  {
   "cell_type": "code",
   "execution_count": 5,
   "metadata": {},
   "outputs": [],
   "source": [
    "from bs4 import BeautifulSoup\n",
    "soup=BeautifulSoup(html,'html.parser')"
   ]
  },
  {
   "cell_type": "code",
   "execution_count": 11,
   "metadata": {},
   "outputs": [
    {
     "name": "stdout",
     "output_type": "stream",
     "text": [
      "['85', '19', '93', '255']\n",
      "['113', '112', '110', '255']\n",
      "['128', '27', '42', '255']\n",
      "['184', '7', '33', '255']\n",
      "['101', '22', '28', '255']\n",
      "['80', '61', '189', '255']\n",
      "['225', '17', '5', '255']\n",
      "['6', '123', '176', '255']\n",
      "['247', '181', '0', '255']\n",
      "['0', '15', '118', '255']\n",
      "['168', '0', '155', '255']\n",
      "['0', '132', '69', '255']\n",
      "['0', '153', '157', '255']\n",
      "['1', '66', '132', '255']\n",
      "['177', '0', '52', '255']\n",
      "['55', '142', '25', '255']\n",
      "['133', '152', '0', '255']\n"
     ]
    }
   ],
   "source": [
    "import re\n",
    "for tag in soup.select('.color'):\n",
    "    code=re.findall(r'\\d+',tag['style'])\n",
    "    print(code)"
   ]
  },
  {
   "cell_type": "code",
   "execution_count": null,
   "metadata": {},
   "outputs": [],
   "source": []
  }
 ],
 "metadata": {
  "kernelspec": {
   "display_name": "Python 3",
   "language": "python",
   "name": "python3"
  },
  "language_info": {
   "codemirror_mode": {
    "name": "ipython",
    "version": 3
   },
   "file_extension": ".py",
   "mimetype": "text/x-python",
   "name": "python",
   "nbconvert_exporter": "python",
   "pygments_lexer": "ipython3",
   "version": "3.6.4"
  }
 },
 "nbformat": 4,
 "nbformat_minor": 2
}
